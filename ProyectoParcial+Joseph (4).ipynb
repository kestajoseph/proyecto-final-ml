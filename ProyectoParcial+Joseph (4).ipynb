{
  "nbformat": 4,
  "nbformat_minor": 0,
  "metadata": {
    "colab": {
      "provenance": []
    },
    "kernelspec": {
      "name": "python3",
      "display_name": "Python 3"
    },
    "language_info": {
      "name": "python"
    }
  },
  "cells": [
    {
      "cell_type": "code",
      "execution_count": 1,
      "metadata": {
        "id": "aOPk0gMibhMP"
      },
      "outputs": [],
      "source": [
        "# =======================\n",
        "# Imports básicos\n",
        "# =======================\n",
        "import pandas as pd\n",
        "import numpy as np\n",
        "import matplotlib.pyplot as plt\n",
        "from pathlib import Path\n",
        "\n",
        "from sklearn.model_selection import train_test_split\n",
        "from sklearn.compose import ColumnTransformer\n",
        "from sklearn.pipeline import Pipeline\n",
        "from sklearn.preprocessing import OneHotEncoder, StandardScaler\n",
        "from sklearn.impute import SimpleImputer\n",
        "\n",
        "from sklearn.feature_selection import SelectKBest, mutual_info_classif\n",
        "from sklearn.linear_model import LogisticRegression\n",
        "from sklearn.metrics import accuracy_score, precision_score, recall_score, f1_score, classification_report, confusion_matrix, ConfusionMatrixDisplay\n",
        "\n",
        "RANDOM_STATE = 42\n",
        "np.random.seed(RANDOM_STATE)\n"
      ]
    },
    {
      "cell_type": "code",
      "source": [
        "# =======================\n",
        "# Cargar datos y crear target\n",
        "# =======================\n",
        "\n",
        "# Ruta del archivo (asegurate de subir gastro_demo.csv a Colab, en la carpeta de la izquierda)\n",
        "DATA_PATH = \"gastro_demo.csv\"\n",
        "\n",
        "# Cargar dataset\n",
        "df = pd.read_csv(DATA_PATH)\n",
        "print(\"Dimensiones:\", df.shape)\n",
        "\n",
        "# Crear columna binaria \"alta_ganancia\" en base a la mediana de la ganancia\n",
        "mediana = df[\"ganancia\"].median()\n",
        "df[\"alta_ganancia\"] = (df[\"ganancia\"] >= mediana).astype(int)\n",
        "\n",
        "print(\"✅ Columna 'alta_ganancia' creada correctamente\")\n",
        "print(df[[\"ganancia\", \"alta_ganancia\"]].head())\n",
        "\n",
        "# Guardar dataset actualizado\n",
        "df.to_csv(\"gastro_demo.csv\", index=False)\n"
      ],
      "metadata": {
        "colab": {
          "base_uri": "https://localhost:8080/"
        },
        "id": "AZR0lAxfc0RJ",
        "outputId": "f7b38ba9-aeff-4eb3-e0a3-c663a29abfa7"
      },
      "execution_count": 3,
      "outputs": [
        {
          "output_type": "stream",
          "name": "stdout",
          "text": [
            "Dimensiones: (1200, 12)\n",
            "✅ Columna 'alta_ganancia' creada correctamente\n",
            "   ganancia  alta_ganancia\n",
            "0   1686.87              0\n",
            "1   1946.60              0\n",
            "2   4285.83              1\n",
            "3   6167.39              1\n",
            "4   1161.88              0\n"
          ]
        }
      ]
    },
    {
      "cell_type": "code",
      "source": [
        "# =======================\n",
        "# Definición de variables (X, y)\n",
        "# =======================\n",
        "\n",
        "TARGET_COLUMN = \"alta_ganancia\"\n",
        "\n",
        "y = df[TARGET_COLUMN]\n",
        "X = df.drop(columns=[TARGET_COLUMN])\n",
        "\n",
        "# Separar columnas numéricas y categóricas\n",
        "num_cols = X.select_dtypes(include=[np.number]).columns.tolist()\n",
        "cat_cols = X.select_dtypes(exclude=[np.number]).columns.tolist()\n",
        "\n",
        "print(\"Columnas numéricas:\", num_cols)\n",
        "print(\"Columnas categóricas:\", cat_cols)\n"
      ],
      "metadata": {
        "colab": {
          "base_uri": "https://localhost:8080/"
        },
        "id": "fJ1LgB9neEAU",
        "outputId": "5be2fcd5-5f35-4d2c-ed47-6972745043b6"
      },
      "execution_count": 4,
      "outputs": [
        {
          "output_type": "stream",
          "name": "stdout",
          "text": [
            "Columnas numéricas: ['precio', 'costo', 'cantidad', 'ganancia']\n",
            "Columnas categóricas: ['fecha', 'categoria', 'metodo_pago', 'sucursal', 'dia_semana', 'cliente_tipo', 'tipo_venta']\n"
          ]
        }
      ]
    },
    {
      "cell_type": "code",
      "source": [
        "# =======================\n",
        "# Definición de variables (X, y)\n",
        "# =======================\n",
        "\n",
        "TARGET_COLUMN = \"alta_ganancia\"\n",
        "\n",
        "y = df[TARGET_COLUMN]\n",
        "X = df.drop(columns=[TARGET_COLUMN])\n",
        "\n",
        "# Separar columnas numéricas y categóricas\n",
        "num_cols = X.select_dtypes(include=[np.number]).columns.tolist()\n",
        "cat_cols = X.select_dtypes(exclude=[np.number]).columns.tolist()\n",
        "\n",
        "print(\"Columnas numéricas:\", num_cols)\n",
        "print(\"Columnas categóricas:\", cat_cols)\n"
      ],
      "metadata": {
        "colab": {
          "base_uri": "https://localhost:8080/"
        },
        "id": "w-GtCjhdek1D",
        "outputId": "988b2ef2-4afc-4325-e26e-d88aa73b43db"
      },
      "execution_count": 5,
      "outputs": [
        {
          "output_type": "stream",
          "name": "stdout",
          "text": [
            "Columnas numéricas: ['precio', 'costo', 'cantidad', 'ganancia']\n",
            "Columnas categóricas: ['fecha', 'categoria', 'metodo_pago', 'sucursal', 'dia_semana', 'cliente_tipo', 'tipo_venta']\n"
          ]
        }
      ]
    },
    {
      "cell_type": "code",
      "source": [
        "from sklearn.model_selection import train_test_split\n",
        "\n",
        "X_train, X_test, y_train, y_test = train_test_split(\n",
        "    X, y, test_size=0.2, random_state=42, stratify=y\n",
        ")\n",
        "\n",
        "print(\"Tamaño entrenamiento:\", X_train.shape, \" | Tamaño test:\", X_test.shape)\n"
      ],
      "metadata": {
        "colab": {
          "base_uri": "https://localhost:8080/"
        },
        "id": "Tp65SERGeoAN",
        "outputId": "f415a76e-a8e6-4896-fd7f-5e998a858ba0"
      },
      "execution_count": 6,
      "outputs": [
        {
          "output_type": "stream",
          "name": "stdout",
          "text": [
            "Tamaño entrenamiento: (960, 11)  | Tamaño test: (240, 11)\n"
          ]
        }
      ]
    },
    {
      "cell_type": "code",
      "source": [
        "from sklearn.pipeline import Pipeline\n",
        "from sklearn.compose import ColumnTransformer\n",
        "from sklearn.preprocessing import OneHotEncoder, StandardScaler\n",
        "from sklearn.impute import SimpleImputer\n",
        "\n",
        "# Pipeline numérico\n",
        "num_transformer = Pipeline(steps=[\n",
        "    (\"imputer\", SimpleImputer(strategy=\"median\")),\n",
        "    (\"scaler\", StandardScaler())\n",
        "])\n",
        "\n",
        "# Pipeline categórico\n",
        "cat_transformer = Pipeline(steps=[\n",
        "    (\"imputer\", SimpleImputer(strategy=\"most_frequent\")),\n",
        "    (\"onehot\", OneHotEncoder(handle_unknown=\"ignore\"))\n",
        "])\n",
        "\n",
        "# Combinar\n",
        "preprocessor = ColumnTransformer(\n",
        "    transformers=[\n",
        "        (\"num\", num_transformer, num_cols),\n",
        "        (\"cat\", cat_transformer, cat_cols)\n",
        "    ]\n",
        ")\n"
      ],
      "metadata": {
        "id": "cNIG7l5ceycJ"
      },
      "execution_count": 7,
      "outputs": []
    },
    {
      "cell_type": "code",
      "source": [
        "from sklearn.feature_selection import SelectKBest, mutual_info_classif\n",
        "\n",
        "selector = SelectKBest(score_func=mutual_info_classif, k=10)  # elegimos 10 features\n"
      ],
      "metadata": {
        "id": "WwHroEO9e6oe"
      },
      "execution_count": 8,
      "outputs": []
    },
    {
      "cell_type": "code",
      "source": [
        "from sklearn.linear_model import LogisticRegression\n",
        "\n",
        "model = LogisticRegression(max_iter=200)\n",
        "\n",
        "# Pipeline completo\n",
        "pipe = Pipeline(steps=[\n",
        "    (\"pre\", preprocessor),\n",
        "    (\"sel\", selector),\n",
        "    (\"model\", model)\n",
        "])\n",
        "\n",
        "pipe.fit(X_train, y_train)\n",
        "\n",
        "print(\"✅ Entrenamiento completado\")\n"
      ],
      "metadata": {
        "colab": {
          "base_uri": "https://localhost:8080/"
        },
        "id": "lekFYA_DfAet",
        "outputId": "017f913e-5c2b-4fff-e446-0ae92553fca7"
      },
      "execution_count": 9,
      "outputs": [
        {
          "output_type": "stream",
          "name": "stderr",
          "text": [
            "/usr/local/lib/python3.12/dist-packages/sklearn/metrics/cluster/_supervised.py:59: UserWarning: Clustering metrics expects discrete values but received continuous values for label, and binary values for target\n",
            "  warnings.warn(msg, UserWarning)\n",
            "/usr/local/lib/python3.12/dist-packages/sklearn/metrics/cluster/_supervised.py:59: UserWarning: Clustering metrics expects discrete values but received continuous values for label, and binary values for target\n",
            "  warnings.warn(msg, UserWarning)\n",
            "/usr/local/lib/python3.12/dist-packages/sklearn/metrics/cluster/_supervised.py:59: UserWarning: Clustering metrics expects discrete values but received continuous values for label, and binary values for target\n",
            "  warnings.warn(msg, UserWarning)\n",
            "/usr/local/lib/python3.12/dist-packages/sklearn/metrics/cluster/_supervised.py:59: UserWarning: Clustering metrics expects discrete values but received continuous values for label, and binary values for target\n",
            "  warnings.warn(msg, UserWarning)\n"
          ]
        },
        {
          "output_type": "stream",
          "name": "stdout",
          "text": [
            "✅ Entrenamiento completado\n"
          ]
        }
      ]
    },
    {
      "cell_type": "code",
      "source": [
        "from sklearn.metrics import accuracy_score, precision_score, recall_score, f1_score, classification_report, confusion_matrix, ConfusionMatrixDisplay\n",
        "import matplotlib.pyplot as plt\n",
        "\n",
        "# Predicciones\n",
        "y_pred = pipe.predict(X_test)\n",
        "\n",
        "# Métricas\n",
        "print(\"Accuracy:\", round(accuracy_score(y_test, y_pred), 3))\n",
        "print(\"Precision:\", round(precision_score(y_test, y_pred), 3))\n",
        "print(\"Recall:\", round(recall_score(y_test, y_pred), 3))\n",
        "print(\"F1 Score:\", round(f1_score(y_test, y_pred), 3))\n",
        "\n",
        "print(\"\\nClassification report:\\n\", classification_report(y_test, y_pred))\n",
        "\n",
        "# Matriz de confusión\n",
        "cm = confusion_matrix(y_test, y_pred)\n",
        "disp = ConfusionMatrixDisplay(confusion_matrix=cm)\n",
        "disp.plot()\n",
        "plt.show()\n"
      ],
      "metadata": {
        "colab": {
          "base_uri": "https://localhost:8080/",
          "height": 709
        },
        "id": "H2L-kFU9fFlt",
        "outputId": "0ba0494a-5ce1-4cf6-db83-bb71f858f6cf"
      },
      "execution_count": 10,
      "outputs": [
        {
          "output_type": "stream",
          "name": "stdout",
          "text": [
            "Accuracy: 0.983\n",
            "Precision: 0.992\n",
            "Recall: 0.975\n",
            "F1 Score: 0.983\n",
            "\n",
            "Classification report:\n",
            "               precision    recall  f1-score   support\n",
            "\n",
            "           0       0.98      0.99      0.98       120\n",
            "           1       0.99      0.97      0.98       120\n",
            "\n",
            "    accuracy                           0.98       240\n",
            "   macro avg       0.98      0.98      0.98       240\n",
            "weighted avg       0.98      0.98      0.98       240\n",
            "\n"
          ]
        },
        {
          "output_type": "display_data",
          "data": {
            "text/plain": [
              "<Figure size 640x480 with 2 Axes>"
            ],
            "image/png": "[encoded data removed]"
          },
          "metadata": {}
        }
      ]
    },
    {
      "cell_type": "markdown",
      "source": [
        "## 📌 Conclusiones\n",
        "\n",
        "**Objetivo:** Entrenar un modelo que prediga si una venta tiene *alta ganancia* (≥ mediana) o *baja ganancia*.  \n",
        "\n",
        "**Método de selección de features:** SelectKBest con información mutua.  \n",
        "\n",
        "**Modelo:** Regresión Logística.  \n",
        "\n",
        "**Resultados (ejemplo):**  \n",
        "- Accuracy: 0.82\n",
        "- Precision: 0.79\n",
        "- Recall: 0.76  \n",
        "- F1 Score: 0.77\n",
        "\n",
        "**Interpretación:** El modelo logra identificar correctamente los casos de alta ganancia con un desempeño aceptable.  \n",
        "Las variables más influyentes fueron (ej.: precio, costo, método de pago...).  \n",
        "\n",
        "**Limitaciones:** Dataset reducido a un solo local/giro, no incluye variables externas (ej.: promociones, clima).  \n",
        "\n",
        "**Próximos pasos:** Probar otros modelos (Random Forest, SVM), ajustar hiperparámetros, y usar más datos históricos.  \n"
      ],
      "metadata": {
        "id": "Sp9j9mLtfpV2"
      }
    },
    {
      "cell_type": "markdown",
      "source": [],
      "metadata": {
        "id": "0WQE_gVihsaV"
      }
    }
  ]
}